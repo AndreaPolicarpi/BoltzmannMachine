{
  "nbformat": 4,
  "nbformat_minor": 0,
  "metadata": {
    "colab": {
      "name": "BoltzmannMachine.ipynb",
      "provenance": [],
      "collapsed_sections": [
        "qHMZ5tW0pSPi",
        "MVn247iVwFio",
        "CAauBoyDoxf9",
        "FAKI7Hw1A5jU",
        "Pi8LWERNyTgA"
      ]
    },
    "kernelspec": {
      "name": "python3",
      "display_name": "Python 3"
    },
    "language_info": {
      "name": "python"
    }
  },
  "cells": [
    {
      "cell_type": "markdown",
      "metadata": {
        "id": "qHMZ5tW0pSPi"
      },
      "source": [
        "## Librerie e funzioni ausiliarie"
      ]
    },
    {
      "cell_type": "code",
      "metadata": {
        "id": "wQ-l1MG0Wqsd"
      },
      "source": [
        "import math\n",
        "import random\n",
        "import numpy as np\n",
        "import pandas as pd\n",
        "from itertools import chain, combinations\n",
        "\n",
        "############################################################################################\n",
        "\n",
        "def listToString(s): \n",
        "    \n",
        "    # initialize an empty string\n",
        "    str1 = \"\" \n",
        "    \n",
        "    # traverse in the string  \n",
        "    for ele in s: \n",
        "        str1 += ele  \n",
        "    \n",
        "    # return string  \n",
        "    return str1\n",
        "\n",
        "############################################################################################\n",
        "\n",
        "def print_parameters(biases, weights, shape):\n",
        "\n",
        "  print('##########################')\n",
        "\n",
        "  for b in range(1,shape[0]+shape[1]+1):\n",
        "    b = 'b{}'.format(str(b))\n",
        "    print(b,'=',biases[b])\n",
        "\n",
        "  print('--------------------------')\n",
        "\n",
        "  for i in range(1,shape[0]+1):\n",
        "    for j in range(1,shape[1]+1):\n",
        "      w = 'W{}'.format(str(i)+str(shape[0]+j))\n",
        "      print(w,'=',weights[w])\n",
        "\n",
        "  print('##########################')\n",
        "\n",
        "############################################################################################\n",
        "\n",
        "# skeleton of all possible neuron combinations of values\n",
        "def compute_all_combinations(N_neurons):\n",
        "  skeleton = -1*np.ones((2**N_neurons,N_neurons))\n",
        "  for i in range(len(skeleton)):\n",
        "      a = [int(el) for el in list(\"{0:b}\".format(i))]\n",
        "      temp = np.pad(a,(len(skeleton[i])-len(a),0),\"constant\",constant_values=(0,0))\n",
        "      skeleton[i] = skeleton[i] +2*temp\n",
        "  skeleton = np.flip(skeleton,0)   \n",
        "  return skeleton \n",
        "\n",
        "############################################################################################\n",
        "# all possible subsets of a given set\n",
        "def powerset(iterable):\n",
        "    \"powerset([1,2,3]) --> () (1,) (2,) (3,) (1,2) (1,3) (2,3) (1,2,3)\"\n",
        "    s = list(iterable)\n",
        "    return chain.from_iterable(combinations(s, r) for r in range(len(s)+1))\n",
        "\n",
        "############################################################################################\n",
        "\n",
        "def compute_scalar_products(dataset):\n",
        "\n",
        "  N_neurons = len(dataset[0])\n",
        "  scalar_products = np.ones(2**N_neurons)\n",
        "  partitions = [ list(el) for el in list(powerset(range(N_neurons)))]\n",
        "  M = len(dataset[:,0])\n",
        "\n",
        "  for i in range(1,2**N_neurons):\n",
        "      scalar_products[i] = (np.sum([np.prod(el) for el in dataset[:,partitions[i]]]))/M\n",
        "\n",
        "  #print(scalar_products)\n",
        "\n",
        "  return scalar_products\n",
        "\n",
        "############################################################################################\n",
        "\n",
        "def compute_marginal_probabilities(N_neurons, scalar_products):\n",
        "\n",
        "  partitions = [ list(el) for el in list(powerset(range(N_neurons)))]\n",
        "\n",
        "  skeleton = compute_all_combinations(N_neurons)\n",
        "\n",
        "\n",
        "  marginal_probabilities = np.zeros(2**N_neurons)\n",
        "\n",
        "    \n",
        "  for i in range(len(marginal_probabilities)):\n",
        "      \n",
        "      coef = np.zeros(len(marginal_probabilities))\n",
        "      for k in range(len(partitions)):\n",
        "          coef[k] = np.prod(skeleton[i][partitions[k]] )\n",
        "          \n",
        "      marginal_probabilities[i] = np.dot(scalar_products, coef)  \n",
        "      \n",
        "  marginal_probabilities = marginal_probabilities/(2**N_neurons)\n",
        "\n",
        "  #print(marginal_probabilities)\n",
        "\n",
        "  return marginal_probabilities\n",
        "\n",
        "############################################################################################\n",
        "\n",
        "def compute_hamiltonian(weights, biases, configuration):\n",
        "    bias_contr = np.sum([  list(biases.values())[k] * configuration[k]  for k in range(len(configuration))   ])\n",
        "\n",
        "    weights_list = list(boltz.weights.keys())\n",
        "    weights_contr = 0\n",
        "    for k in range(len(weights_list)):\n",
        "      n1 = int(weights_list[0][-2])-1\n",
        "      n2 = int(weights_list[0][-1])-1\n",
        "\n",
        "      weights_contr += boltz.weights[weights_list[k]] * configuration[n1] * configuration[n2]\n",
        "    #print(bias_contr)\n",
        "    #print(weights_contr)\n",
        "    return bias_contr + weights_contr\n",
        "    \n",
        "    #b1*s1 + b2*s2 + b3*s3 + W12*s1*s2 + W13*s1*s3 + W23*s2*s3 "
      ],
      "execution_count": null,
      "outputs": []
    },
    {
      "cell_type": "markdown",
      "metadata": {
        "id": "MVn247iVwFio"
      },
      "source": [
        "## Creazione del dataset"
      ]
    },
    {
      "cell_type": "code",
      "metadata": {
        "colab": {
          "base_uri": "https://localhost:8080/"
        },
        "id": "OPeHCol27_xM",
        "outputId": "5313deed-6143-4a20-f154-78c09173e1e8"
      },
      "source": [
        "##############################################\n",
        "############ 1+1 neurons datasets ############\n",
        "##############################################\n",
        "\n",
        "# BUFFER dataset\n",
        "#dataset = np.array([  [1,1],[-1,-1]  ])\n",
        "\n",
        "# NOT dataset\n",
        "#dataset = np.array([  [-1,1],[1,-1]  ])\n",
        "\n",
        "##############################################\n",
        "############ 2+1 neurons datasets ############\n",
        "##############################################\n",
        "\n",
        "# balanced dataset\n",
        "#dataset = compute_all_combinations(3)\n",
        "\n",
        "# NAND dataset\n",
        "dataset = np.array([  [1,1,-1],[1,-1,1],[-1,1,1],[-1,-1,1]  ])\n",
        "\n",
        "# NAND dataset sbilanciato\n",
        "#dataset = np.array([  [1,1,-1],[1,1,-1],[1,1,-1],[1,1,-1],[1,1,-1],[1,-1,1],[-1,1,1],[-1,-1,1]  ])\n",
        "\n",
        " # OR dataset\n",
        "#dataset = np.array([  [1,1,1],[1,-1,1],[-1,1,1],[-1,-1,-1]  ])\n",
        "\n",
        " # XOR dataset\n",
        "#dataset = np.array([  [1,1,-1],[1,-1,1],[-1,1,1],[-1,-1,-1]  ])\n",
        "\n",
        " # XOR dataset sbilanciato\n",
        "#dataset = np.array([  [1,1,-1],[1,-1,1],[1,1,-1],[1,-1,1],[1,1,-1],[1,-1,1],[-1,1,1],[-1,-1,-1]  ])\n",
        "\n",
        " # Custom dataset\n",
        "#dataset = np.array([  [1,1,-1]  ])\n",
        "\n",
        "##############################################\n",
        "############ 2+2 neurons datasets ############\n",
        "##############################################\n",
        "\n",
        " # AND ed OR dataset \n",
        "#dataset = np.array([  [1,1,1,1],[1,-1,-1,1],[-1,1,-1,1],[-1,-1,-1,-1]  ])\n",
        "\n",
        "\n",
        "############################################################################\n",
        "\n",
        "print('Dataset:')\n",
        "print(dataset)\n",
        "print()\n",
        "\n",
        "for i in range(4):\n",
        "  dataset = np.vstack((dataset, dataset ))\n",
        "\n",
        "dataset = np.vstack((compute_all_combinations(len(dataset[0])), dataset )) #adding to dataset an element for all possible combinations\n",
        "\n",
        "#print(dataset)"
      ],
      "execution_count": null,
      "outputs": [
        {
          "output_type": "stream",
          "name": "stdout",
          "text": [
            "Dataset:\n",
            "[[ 1  1 -1]\n",
            " [ 1 -1  1]\n",
            " [-1  1  1]\n",
            " [-1 -1  1]]\n",
            "\n"
          ]
        }
      ]
    },
    {
      "cell_type": "markdown",
      "metadata": {
        "id": "CAauBoyDoxf9"
      },
      "source": [
        "## Modello: Macchina di Boltzman a 2 layer, con numero arbitrario di neuroni per layer"
      ]
    },
    {
      "cell_type": "code",
      "metadata": {
        "id": "PzGBMUzWozwb"
      },
      "source": [
        "class BoltzmannMachine:\n",
        "\n",
        "  def __init__(self, shape):\n",
        "\n",
        "    self.shape = shape\n",
        "\n",
        "    self.N_neurons = np.sum(self.shape)\n",
        "\n",
        "    self.powerset = list(powerset(list(range(self.N_neurons))))\n",
        "\n",
        "    self.skeleton = compute_all_combinations(self.N_neurons)\n",
        "\n",
        "    self.partitions = [ list(el) for el in list(powerset(range(self.N_neurons)))]\n",
        "\n",
        "    self.parameters = np.zeros(2**self.N_neurons)\n",
        "    self.biases = {}\n",
        "    self.weights = {}\n",
        "\n",
        "    for i in range(1, self.N_neurons+1):\n",
        "        self.biases['b{}'.format(i)] = self.parameters[i]\n",
        "\n",
        "        \n",
        "    for i in range( self.N_neurons+1 , self.N_neurons + 1 + (self.N_neurons-1)*(self.N_neurons)//2 ):\n",
        "        self.weights['W{}'.format(listToString([str(el +1) for el in self.partitions[i]]))] = self.parameters[i]\n",
        "\n",
        "########################################################################################################################\n",
        "\n",
        "  def train_on_dataset(self, dataset):\n",
        "\n",
        "    self.scalar_products = compute_scalar_products(dataset)\n",
        "\n",
        "    self.marginal_probabilities = compute_marginal_probabilities(self.N_neurons, self.scalar_products)\n",
        "\n",
        "    self.biases = {}\n",
        "    self.weights = {}\n",
        "\n",
        "\n",
        "    self.parameters = np.zeros(2**self.N_neurons)\n",
        "\n",
        "    self.parameters[0] = (1/2**self.N_neurons)*math.log(np.prod(self.marginal_probabilities))\n",
        "\n",
        "    for k in range(1, len(self.parameters)):\n",
        "        temp=[]\n",
        "        \n",
        "        temp = [self.marginal_probabilities[j]**(np.prod([self.skeleton[j][l] for l in self.powerset[k]])) for j in range(len(self.marginal_probabilities))]\n",
        "        \n",
        "        temp = np.prod(temp)\n",
        "        self.parameters[k] = (1/2**self.N_neurons)*math.log(temp)\n",
        "\n",
        "\n",
        "    for i in range(1, self.N_neurons+1):\n",
        "        self.biases['b{}'.format(i)] = self.parameters[i]\n",
        "\n",
        "        \n",
        "    for i in range( self.N_neurons+1 , self.N_neurons + 1 + (self.N_neurons-1)*(self.N_neurons)//2 ):\n",
        "        self.weights['W{}'.format(listToString([str(el +1) for el in self.partitions[i]]))] = self.parameters[i]\n",
        "\n",
        "    # \"cut\" links between neurons of same layer\n",
        "    cut = True\n",
        "    if cut:\n",
        "      for i in range(self.shape[0]):\n",
        "        for j in range(i,self.shape[0]):\n",
        "          if i != j:\n",
        "            self.weights['W{}{}'.format(i+1,j+1)] = 0.0\n",
        "\n",
        "      for i in range(self.shape[0],self.shape[0]+self.shape[1]):\n",
        "        for j in range(i,self.shape[0]+self.shape[1]):\n",
        "          if i != j:\n",
        "            self.weights['W{}{}'.format(i+1,j+1)] = 0.0\n",
        "\n",
        "    \n",
        "########################################################################################################################\n",
        "\n",
        "  def print_parameters(self):\n",
        "    print_parameters(self.biases, self.weights, self.shape)\n",
        "\n",
        "########################################################################################################################\n",
        "\n",
        "  def compute_marginals(self):\n",
        "    self.marginals = np.zeros(len(self.skeleton))\n",
        "    for i in range(len(self.marginals)):\n",
        "        self.marginals[i] = math.exp(compute_hamiltonian( self.weights,self.biases, self.skeleton[i] ))\n",
        "        #self.marginals[i] = math.exp(compute_hamiltonian( self.weights,self.biases,       [1,1,1]       ))\n",
        "    \n",
        "    Z = np.sum(self.marginals)\n",
        "    self.marginals = self.marginals/Z\n",
        "\n",
        "########################################################################################################################\n",
        "\n",
        "  def print_marginals(self):\n",
        "    for i in range(len(self.marginals)):\n",
        "      print(\"configuration \",self.skeleton[i],\" has probability: \", round(self.marginals[i],2))\n",
        "      print()\n",
        "\n",
        "########################################################################################################################\n",
        "\n",
        "  def compute_neuron_probs(self):\n",
        "    self.neuron_probs = np.zeros(boltz.N_neurons)\n",
        "    for neuron in range(self.N_neurons):\n",
        "      sum = 0\n",
        "      for i in range(len(self.skeleton)):\n",
        "        if self.skeleton[i][neuron] == 1:\n",
        "          sum += self.marginals[i]\n",
        "\n",
        "      self.neuron_probs[neuron]= sum\n",
        "\n",
        "########################################################################################################################\n",
        "\n",
        "  def print_neuron_probs(self):\n",
        "     for neuron in range(self.N_neurons):\n",
        "       print(\"probability that neuron\", neuron+1, \"is positive:\", round(self.neuron_probs[neuron],2))\n",
        "       print()\n",
        " \n",
        "########################################################################################################################\n",
        "\n",
        "  def generate_sample(self):\n",
        "\n",
        "    sample = np.zeros(self.N_neurons)\n",
        "\n",
        "    seed = random.uniform(0, 1)\n",
        "    #print(seed)\n",
        "    for i in range(len(self.marginals)):\n",
        "      seed = seed - self.marginals[i]\n",
        "      if seed <=0:\n",
        "        return self.skeleton[i]\n",
        "\n",
        "########################################################################################################################\n",
        "\n",
        "  def compute_true_hamiltonian(self):\n",
        "    true_hamiltonian = np.ones(len(self.skeleton))\n",
        "    for k in range(len(self.skeleton)):\n",
        "      temp = [self.parameters[j]*np.prod([self.skeleton[k][l] for l in self.powerset[j]]) for j in range(1,len(self.parameters))]\n",
        "      true_hamiltonian[k] = self.parameters[0] + np.sum(temp)\n",
        "    self.true_hamiltonian =  true_hamiltonian\n",
        "\n",
        "########################################################################################################################\n",
        "\n",
        "  def compute_true_marginals(self):\n",
        "\n",
        "    self.compute_true_hamiltonian()\n",
        "    self.true_marginals = np.zeros(len(self.skeleton))\n",
        "    for i in range(len(self.true_marginals)):\n",
        "        self.true_marginals[i] = math.exp(self.true_hamiltonian[i])\n",
        "    \n",
        "    Z = np.sum(self.true_marginals)\n",
        "    self.true_marginals = self.true_marginals/Z\n",
        "\n",
        "########################################################################################################################\n",
        "\n",
        "  def print_true_marginals(self):\n",
        "    for i in range(len(self.true_marginals)):\n",
        "      print(\"configuration \",self.skeleton[i],\" has probability: \", round(self.true_marginals[i],2))\n",
        "      print()\n",
        "\n",
        "########################################################################################################################\n",
        "\n",
        "  def generate_true_sample(self):\n",
        "\n",
        "    sample = np.zeros(self.N_neurons)\n",
        "\n",
        "    seed = random.uniform(0, 1)\n",
        "    #print(seed)\n",
        "    for i in range(len(self.true_marginals)):\n",
        "      seed = seed - self.true_marginals[i]\n",
        "      if seed <=0:\n",
        "        return self.skeleton[i]\n",
        "\n",
        "########################################################################################################################\n",
        "\n",
        "  def predict(self,input):\n",
        "\n",
        "    candidate_outputs = [ \n",
        "                        (self.skeleton[k], self.marginals[k]) \n",
        "                        for k in range(len(self.skeleton)) \n",
        "                        if np.array_equal(\n",
        "                          self.skeleton[k][0:len(net_input)], \n",
        "                          np.array(net_input) \n",
        "                          )]\n",
        "\n",
        "    scale = np.sum([ el[1] for el in candidate_outputs  ])\n",
        "\n",
        "    seed = random.uniform(0, 1)*scale\n",
        "\n",
        "    for i in range(len(candidate_outputs)):\n",
        "      seed = seed - candidate_outputs[i][1]\n",
        "      if seed <=0:\n",
        "        return candidate_outputs[i][0]\n",
        "\n",
        "########################################################################################################################\n",
        "\n",
        "  def true_predict(self,input):\n",
        "\n",
        "    candidate_outputs = [ \n",
        "                        (self.skeleton[k], self.true_marginals[k]) \n",
        "                        for k in range(len(self.skeleton)) \n",
        "                        if np.array_equal(\n",
        "                          self.skeleton[k][0:len(net_input)], \n",
        "                          np.array(net_input) \n",
        "                          )]\n",
        "\n",
        "    scale = np.sum([ el[1] for el in candidate_outputs  ])\n",
        "\n",
        "    seed = random.uniform(0, 1)*scale\n",
        "\n",
        "    for i in range(len(candidate_outputs)):\n",
        "      seed = seed - candidate_outputs[i][1]\n",
        "      if seed <=0:\n",
        "        return candidate_outputs[i][0]\n"
      ],
      "execution_count": null,
      "outputs": []
    },
    {
      "cell_type": "markdown",
      "metadata": {
        "id": "FAKI7Hw1A5jU"
      },
      "source": [
        "## Instanziazione del modello e training"
      ]
    },
    {
      "cell_type": "code",
      "metadata": {
        "colab": {
          "base_uri": "https://localhost:8080/"
        },
        "id": "iqyeOiEX5DEa",
        "outputId": "025e7696-2513-4c89-f9b2-148fa6a9f12b"
      },
      "source": [
        "boltz = BoltzmannMachine((2,1))\n",
        "\n",
        "boltz.print_parameters()"
      ],
      "execution_count": null,
      "outputs": [
        {
          "output_type": "stream",
          "name": "stdout",
          "text": [
            "##########################\n",
            "b1 = 0.0\n",
            "b2 = 0.0\n",
            "b3 = 0.0\n",
            "--------------------------\n",
            "W13 = 0.0\n",
            "W23 = 0.0\n",
            "##########################\n"
          ]
        }
      ]
    },
    {
      "cell_type": "code",
      "metadata": {
        "colab": {
          "base_uri": "https://localhost:8080/"
        },
        "id": "NcOORsdG8_h8",
        "outputId": "65fddede-714c-48ac-d1cf-822404e60f52"
      },
      "source": [
        "boltz.train_on_dataset(dataset)\n",
        "boltz.print_parameters()"
      ],
      "execution_count": null,
      "outputs": [
        {
          "output_type": "stream",
          "name": "stdout",
          "text": [
            "##########################\n",
            "b1 = 2.775557561562891e-17\n",
            "b2 = 2.775557561562891e-17\n",
            "b3 = 0.7083033360140539\n",
            "--------------------------\n",
            "W13 = -0.7083033360140539\n",
            "W23 = -0.7083033360140539\n",
            "##########################\n"
          ]
        }
      ]
    },
    {
      "cell_type": "code",
      "metadata": {
        "colab": {
          "base_uri": "https://localhost:8080/"
        },
        "id": "faRGDPuJRfQB",
        "outputId": "37a992e8-b1ea-429a-ff27-0fcd9a697e60"
      },
      "source": [
        "boltz.compute_marginals()\n",
        "boltz.print_marginals()"
      ],
      "execution_count": null,
      "outputs": [
        {
          "output_type": "stream",
          "name": "stdout",
          "text": [
            "configuration  [1. 1. 1.]  has probability:  0.02\n",
            "\n",
            "configuration  [ 1.  1. -1.]  has probability:  0.01\n",
            "\n",
            "configuration  [ 1. -1.  1.]  has probability:  0.38\n",
            "\n",
            "configuration  [ 1. -1. -1.]  has probability:  0.09\n",
            "\n",
            "configuration  [-1.  1.  1.]  has probability:  0.38\n",
            "\n",
            "configuration  [-1.  1. -1.]  has probability:  0.09\n",
            "\n",
            "configuration  [-1. -1.  1.]  has probability:  0.02\n",
            "\n",
            "configuration  [-1. -1. -1.]  has probability:  0.01\n",
            "\n"
          ]
        }
      ]
    },
    {
      "cell_type": "code",
      "metadata": {
        "colab": {
          "base_uri": "https://localhost:8080/"
        },
        "id": "GqVQssgTmkO9",
        "outputId": "12c61434-7c41-4ce4-d27f-28da2f6e637f"
      },
      "source": [
        "boltz.compute_true_marginals()\n",
        "boltz.print_true_marginals()"
      ],
      "execution_count": null,
      "outputs": [
        {
          "output_type": "stream",
          "name": "stdout",
          "text": [
            "configuration  [1. 1. 1.]  has probability:  0.01\n",
            "\n",
            "configuration  [ 1.  1. -1.]  has probability:  0.24\n",
            "\n",
            "configuration  [ 1. -1.  1.]  has probability:  0.24\n",
            "\n",
            "configuration  [ 1. -1. -1.]  has probability:  0.01\n",
            "\n",
            "configuration  [-1.  1.  1.]  has probability:  0.24\n",
            "\n",
            "configuration  [-1.  1. -1.]  has probability:  0.01\n",
            "\n",
            "configuration  [-1. -1.  1.]  has probability:  0.24\n",
            "\n",
            "configuration  [-1. -1. -1.]  has probability:  0.01\n",
            "\n"
          ]
        }
      ]
    },
    {
      "cell_type": "code",
      "metadata": {
        "colab": {
          "base_uri": "https://localhost:8080/"
        },
        "id": "Zonhd8WBuNsP",
        "outputId": "df507e02-4da3-42fa-a5d1-b3a5369ff02a"
      },
      "source": [
        "boltz.compute_neuron_probs()\n",
        "boltz.print_neuron_probs()"
      ],
      "execution_count": null,
      "outputs": [
        {
          "output_type": "stream",
          "name": "stdout",
          "text": [
            "probability that neuron 1 is positive: 0.5\n",
            "\n",
            "probability that neuron 2 is positive: 0.5\n",
            "\n",
            "probability that neuron 3 is positive: 0.8\n",
            "\n"
          ]
        }
      ]
    },
    {
      "cell_type": "code",
      "metadata": {
        "colab": {
          "base_uri": "https://localhost:8080/"
        },
        "id": "9YJ7c20kwm57",
        "outputId": "bc8cd21b-00b4-4218-e280-a95bf654144c"
      },
      "source": [
        "print(boltz.generate_sample())"
      ],
      "execution_count": null,
      "outputs": [
        {
          "output_type": "stream",
          "name": "stdout",
          "text": [
            "[-1.  1.  1.]\n"
          ]
        }
      ]
    },
    {
      "cell_type": "markdown",
      "metadata": {
        "id": "Pi8LWERNyTgA"
      },
      "source": [
        "## Statistiche sui campioni generati dal modello"
      ]
    },
    {
      "cell_type": "markdown",
      "metadata": {
        "id": "SGZ3G6gx6pmM"
      },
      "source": [
        "Risultati nel caso in cui si \"tagliano\" i collegamenti non voluti (1000 campioni generati)"
      ]
    },
    {
      "cell_type": "code",
      "metadata": {
        "colab": {
          "base_uri": "https://localhost:8080/",
          "height": 338
        },
        "id": "fvtbCSrJyQOH",
        "outputId": "427bdfc0-677c-404d-b305-8d1b5e678331"
      },
      "source": [
        "new_data = []\n",
        "for i in range(1000):\n",
        "  new_data.append(boltz.generate_sample())\n",
        "df = pd.DataFrame(new_data)\n",
        "print(df.value_counts().plot.barh(figsize=(8,5),grid = True,xticks = np.arange(0, 1000, step=50)))"
      ],
      "execution_count": null,
      "outputs": [
        {
          "output_type": "stream",
          "name": "stdout",
          "text": [
            "AxesSubplot(0.125,0.125;0.775x0.755)\n"
          ]
        },
        {
          "output_type": "display_data",
          "data": {
            "image/png": "[encoded data removed]",
            "text/plain": [
              "<Figure size 576x360 with 1 Axes>"
            ]
          },
          "metadata": {
            "needs_background": "light"
          }
        }
      ]
    },
    {
      "cell_type": "markdown",
      "metadata": {
        "id": "pofdROWF6wkS"
      },
      "source": [
        "Risultati per la rete completamente connessa (1000 campioni generati)"
      ]
    },
    {
      "cell_type": "code",
      "metadata": {
        "colab": {
          "base_uri": "https://localhost:8080/",
          "height": 338
        },
        "id": "1YWOeYFZynQv",
        "outputId": "23ca8d17-f28a-4511-90d4-bb090f85a64b"
      },
      "source": [
        "new_data2 = []\n",
        "for i in range(1000):\n",
        "  new_data2.append(boltz.generate_true_sample())\n",
        "df2 = pd.DataFrame(new_data2)\n",
        "print(df2.value_counts().plot.barh(figsize=(8,5),grid = True,xticks = np.arange(0, 1000, step=50)))"
      ],
      "execution_count": null,
      "outputs": [
        {
          "output_type": "stream",
          "name": "stdout",
          "text": [
            "AxesSubplot(0.125,0.125;0.775x0.755)\n"
          ]
        },
        {
          "output_type": "display_data",
          "data": {
            "image/png": "[encoded data removed]",
            "text/plain": [
              "<Figure size 576x360 with 1 Axes>"
            ]
          },
          "metadata": {
            "needs_background": "light"
          }
        }
      ]
    },
    {
      "cell_type": "markdown",
      "metadata": {
        "id": "5h5Plnga_yCX"
      },
      "source": [
        "Performances della rete quando si fornisce il layer di input (1000 predizioni)"
      ]
    },
    {
      "cell_type": "code",
      "metadata": {
        "colab": {
          "base_uri": "https://localhost:8080/",
          "height": 338
        },
        "id": "DoEUF3pf8xrq",
        "outputId": "124d1f26-1b66-45d3-fa88-ab43a7479cba"
      },
      "source": [
        "net_input = [1,1]\n",
        "\n",
        "new_data3 = []\n",
        "for i in range(1000):\n",
        "  new_data3.append(boltz.predict(net_input))\n",
        "df3 = pd.DataFrame(new_data3)\n",
        "print(df3.value_counts().plot.barh(figsize=(8,5),grid = True,xticks = np.arange(0, 1000, step=50)))"
      ],
      "execution_count": null,
      "outputs": [
        {
          "output_type": "stream",
          "name": "stdout",
          "text": [
            "AxesSubplot(0.125,0.125;0.775x0.755)\n"
          ]
        },
        {
          "output_type": "display_data",
          "data": {
            "image/png": "[encoded data removed]",
            "text/plain": [
              "<Figure size 576x360 with 1 Axes>"
            ]
          },
          "metadata": {
            "needs_background": "light"
          }
        }
      ]
    },
    {
      "cell_type": "markdown",
      "metadata": {
        "id": "rFs1JQCgToKr"
      },
      "source": [
        "Performances di predizione per la rete completamente connessa(1000 predizioni)"
      ]
    },
    {
      "cell_type": "code",
      "metadata": {
        "colab": {
          "base_uri": "https://localhost:8080/",
          "height": 338
        },
        "id": "v7qLYpODAQ3i",
        "outputId": "a165307a-59dd-414d-8ff6-e1f6119ba933"
      },
      "source": [
        "net_input = [1,1]\n",
        "\n",
        "new_data4 = []\n",
        "for i in range(1000):\n",
        "  new_data4.append(boltz.true_predict(net_input))\n",
        "df4 = pd.DataFrame(new_data4)\n",
        "print(df4.value_counts().plot.barh(figsize=(8,5),grid = True,xticks = np.arange(0, 1000, step=50)))"
      ],
      "execution_count": null,
      "outputs": [
        {
          "output_type": "stream",
          "name": "stdout",
          "text": [
            "AxesSubplot(0.125,0.125;0.775x0.755)\n"
          ]
        },
        {
          "output_type": "display_data",
          "data": {
            "image/png": "[encoded data removed]",
            "text/plain": [
              "<Figure size 576x360 with 1 Axes>"
            ]
          },
          "metadata": {
            "needs_background": "light"
          }
        }
      ]
    }
  ]
}